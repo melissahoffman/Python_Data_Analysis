{
 "cells": [
  {
   "cell_type": "code",
   "execution_count": 61,
   "metadata": {
    "collapsed": false
   },
   "outputs": [],
   "source": [
    "#updated file\n",
    "import pandas as pd"
   ]
  },
  {
   "cell_type": "code",
   "execution_count": null,
   "metadata": {
    "collapsed": false,
    "scrolled": true
   },
   "outputs": [],
   "source": [
    "! pip install git+https://git@github.com/weecology/retriever.git\n",
    "! retriever install csv mapped-plant-quads-co"
   ]
  },
  {
   "cell_type": "markdown",
   "metadata": {},
   "source": [
    "# Part 1"
   ]
  },
  {
   "cell_type": "code",
   "execution_count": 62,
   "metadata": {
    "collapsed": false
   },
   "outputs": [
    {
     "data": {
      "text/html": [
       "<div>\n",
       "<table border=\"1\" class=\"dataframe\">\n",
       "  <thead>\n",
       "    <tr style=\"text-align: right;\">\n",
       "      <th></th>\n",
       "      <th>species</th>\n",
       "      <th>density</th>\n",
       "      <th>cover</th>\n",
       "      <th>growthform</th>\n",
       "      <th>longevity</th>\n",
       "    </tr>\n",
       "  </thead>\n",
       "  <tbody>\n",
       "    <tr>\n",
       "      <th>0</th>\n",
       "      <td>Achillea millefolium</td>\n",
       "      <td>2.0</td>\n",
       "      <td>NaN</td>\n",
       "      <td>forb</td>\n",
       "      <td>P</td>\n",
       "    </tr>\n",
       "    <tr>\n",
       "      <th>1</th>\n",
       "      <td>Agropyron smithii</td>\n",
       "      <td>4649.0</td>\n",
       "      <td>NaN</td>\n",
       "      <td>grass</td>\n",
       "      <td>P</td>\n",
       "    </tr>\n",
       "    <tr>\n",
       "      <th>2</th>\n",
       "      <td>Allium spp.</td>\n",
       "      <td>18.0</td>\n",
       "      <td>NaN</td>\n",
       "      <td>forb</td>\n",
       "      <td>P</td>\n",
       "    </tr>\n",
       "    <tr>\n",
       "      <th>3</th>\n",
       "      <td>Allium textile</td>\n",
       "      <td>73.0</td>\n",
       "      <td>NaN</td>\n",
       "      <td>forb</td>\n",
       "      <td>P</td>\n",
       "    </tr>\n",
       "    <tr>\n",
       "      <th>4</th>\n",
       "      <td>Ambrosia psilostachya</td>\n",
       "      <td>2.0</td>\n",
       "      <td>NaN</td>\n",
       "      <td>forb</td>\n",
       "      <td>P</td>\n",
       "    </tr>\n",
       "  </tbody>\n",
       "</table>\n",
       "</div>"
      ],
      "text/plain": [
       "                 species  density  cover growthform longevity\n",
       "0   Achillea millefolium      2.0    NaN       forb         P\n",
       "1      Agropyron smithii   4649.0    NaN      grass         P\n",
       "2            Allium spp.     18.0    NaN       forb         P\n",
       "3         Allium textile     73.0    NaN       forb         P\n",
       "4  Ambrosia psilostachya      2.0    NaN       forb         P"
      ]
     },
     "execution_count": 62,
     "metadata": {},
     "output_type": "execute_result"
    }
   ],
   "source": [
    "plant_list = pd.read_csv('mapped_plant_quads_co_species_list.csv')\n",
    "plant_list.head()"
   ]
  },
  {
   "cell_type": "code",
   "execution_count": 63,
   "metadata": {
    "collapsed": false
   },
   "outputs": [
    {
     "data": {
      "text/html": [
       "<div>\n",
       "<table border=\"1\" class=\"dataframe\">\n",
       "  <thead>\n",
       "    <tr style=\"text-align: right;\">\n",
       "      <th></th>\n",
       "      <th>quadrat</th>\n",
       "      <th>pasture</th>\n",
       "      <th>latitude</th>\n",
       "      <th>longitude</th>\n",
       "      <th>elevation</th>\n",
       "      <th>before1997</th>\n",
       "      <th>from1997</th>\n",
       "    </tr>\n",
       "  </thead>\n",
       "  <tbody>\n",
       "    <tr>\n",
       "      <th>0</th>\n",
       "      <td>gzgz_11</td>\n",
       "      <td>11</td>\n",
       "      <td>40.842943</td>\n",
       "      <td>-104.744032</td>\n",
       "      <td>1656</td>\n",
       "      <td>grazed</td>\n",
       "      <td>grazed</td>\n",
       "    </tr>\n",
       "    <tr>\n",
       "      <th>1</th>\n",
       "      <td>gzgz_19</td>\n",
       "      <td>19</td>\n",
       "      <td>40.823798</td>\n",
       "      <td>-104.710306</td>\n",
       "      <td>1633</td>\n",
       "      <td>grazed</td>\n",
       "      <td>grazed</td>\n",
       "    </tr>\n",
       "    <tr>\n",
       "      <th>2</th>\n",
       "      <td>gzgz_24</td>\n",
       "      <td>24</td>\n",
       "      <td>40.822824</td>\n",
       "      <td>-104.729504</td>\n",
       "      <td>1650</td>\n",
       "      <td>grazed</td>\n",
       "      <td>grazed</td>\n",
       "    </tr>\n",
       "    <tr>\n",
       "      <th>3</th>\n",
       "      <td>gzgz_5a</td>\n",
       "      <td>5a</td>\n",
       "      <td>40.868138</td>\n",
       "      <td>-104.690792</td>\n",
       "      <td>1657</td>\n",
       "      <td>grazed</td>\n",
       "      <td>grazed</td>\n",
       "    </tr>\n",
       "    <tr>\n",
       "      <th>4</th>\n",
       "      <td>gzgz_5b</td>\n",
       "      <td>5b</td>\n",
       "      <td>40.867662</td>\n",
       "      <td>-104.680630</td>\n",
       "      <td>1661</td>\n",
       "      <td>grazed</td>\n",
       "      <td>grazed</td>\n",
       "    </tr>\n",
       "  </tbody>\n",
       "</table>\n",
       "</div>"
      ],
      "text/plain": [
       "   quadrat pasture   latitude   longitude  elevation before1997 from1997\n",
       "0  gzgz_11      11  40.842943 -104.744032       1656     grazed   grazed\n",
       "1  gzgz_19      19  40.823798 -104.710306       1633     grazed   grazed\n",
       "2  gzgz_24      24  40.822824 -104.729504       1650     grazed   grazed\n",
       "3  gzgz_5a      5a  40.868138 -104.690792       1657     grazed   grazed\n",
       "4  gzgz_5b      5b  40.867662 -104.680630       1661     grazed   grazed"
      ]
     },
     "execution_count": 63,
     "metadata": {},
     "output_type": "execute_result"
    }
   ],
   "source": [
    "plant_quad = pd.read_csv(\"mapped_plant_quads_co_quad_info.csv\")\n",
    "plant_quad.head()"
   ]
  },
  {
   "cell_type": "code",
   "execution_count": 64,
   "metadata": {
    "collapsed": false
   },
   "outputs": [
    {
     "data": {
      "text/html": [
       "<div>\n",
       "<table border=\"1\" class=\"dataframe\">\n",
       "  <thead>\n",
       "    <tr style=\"text-align: right;\">\n",
       "      <th></th>\n",
       "      <th>quad</th>\n",
       "      <th>year</th>\n",
       "      <th>species</th>\n",
       "      <th>area</th>\n",
       "      <th>x</th>\n",
       "      <th>y</th>\n",
       "    </tr>\n",
       "  </thead>\n",
       "  <tbody>\n",
       "    <tr>\n",
       "      <th>0</th>\n",
       "      <td>gzgz_11</td>\n",
       "      <td>1997</td>\n",
       "      <td>Corner plate</td>\n",
       "      <td>0.001863</td>\n",
       "      <td>0.021345</td>\n",
       "      <td>0.977800</td>\n",
       "    </tr>\n",
       "    <tr>\n",
       "      <th>1</th>\n",
       "      <td>gzgz_11</td>\n",
       "      <td>1997</td>\n",
       "      <td>Bare ground</td>\n",
       "      <td>0.013359</td>\n",
       "      <td>0.086730</td>\n",
       "      <td>0.946482</td>\n",
       "    </tr>\n",
       "    <tr>\n",
       "      <th>2</th>\n",
       "      <td>gzgz_11</td>\n",
       "      <td>1997</td>\n",
       "      <td>Bouteloua gracilis</td>\n",
       "      <td>0.000169</td>\n",
       "      <td>0.167067</td>\n",
       "      <td>0.996623</td>\n",
       "    </tr>\n",
       "    <tr>\n",
       "      <th>3</th>\n",
       "      <td>gzgz_11</td>\n",
       "      <td>1997</td>\n",
       "      <td>Bouteloua gracilis</td>\n",
       "      <td>0.014171</td>\n",
       "      <td>0.343203</td>\n",
       "      <td>0.963770</td>\n",
       "    </tr>\n",
       "    <tr>\n",
       "      <th>4</th>\n",
       "      <td>gzgz_11</td>\n",
       "      <td>1997</td>\n",
       "      <td>Bare ground</td>\n",
       "      <td>0.001982</td>\n",
       "      <td>0.377101</td>\n",
       "      <td>0.987494</td>\n",
       "    </tr>\n",
       "  </tbody>\n",
       "</table>\n",
       "</div>"
      ],
      "text/plain": [
       "      quad  year             species      area         x         y\n",
       "0  gzgz_11  1997        Corner plate  0.001863  0.021345  0.977800\n",
       "1  gzgz_11  1997         Bare ground  0.013359  0.086730  0.946482\n",
       "2  gzgz_11  1997  Bouteloua gracilis  0.000169  0.167067  0.996623\n",
       "3  gzgz_11  1997  Bouteloua gracilis  0.014171  0.343203  0.963770\n",
       "4  gzgz_11  1997         Bare ground  0.001982  0.377101  0.987494"
      ]
     },
     "execution_count": 64,
     "metadata": {},
     "output_type": "execute_result"
    }
   ],
   "source": [
    "all_records = pd.read_csv(\"mapped_plant_quads_co_allrecords_cover.csv\")\n",
    "all_records.head()"
   ]
  },
  {
   "cell_type": "code",
   "execution_count": 65,
   "metadata": {
    "collapsed": false
   },
   "outputs": [
    {
     "data": {
      "text/html": [
       "<div>\n",
       "<table border=\"1\" class=\"dataframe\">\n",
       "  <thead>\n",
       "    <tr style=\"text-align: right;\">\n",
       "      <th></th>\n",
       "      <th>species</th>\n",
       "      <th>year</th>\n",
       "      <th>area</th>\n",
       "    </tr>\n",
       "  </thead>\n",
       "  <tbody>\n",
       "    <tr>\n",
       "      <th>0</th>\n",
       "      <td>Ant hill</td>\n",
       "      <td>1998</td>\n",
       "      <td>0.011008</td>\n",
       "    </tr>\n",
       "    <tr>\n",
       "      <th>1</th>\n",
       "      <td>Ant hill</td>\n",
       "      <td>1999</td>\n",
       "      <td>0.014806</td>\n",
       "    </tr>\n",
       "    <tr>\n",
       "      <th>2</th>\n",
       "      <td>Ant hill</td>\n",
       "      <td>2000</td>\n",
       "      <td>0.006458</td>\n",
       "    </tr>\n",
       "    <tr>\n",
       "      <th>3</th>\n",
       "      <td>Ant hill</td>\n",
       "      <td>2001</td>\n",
       "      <td>0.013366</td>\n",
       "    </tr>\n",
       "    <tr>\n",
       "      <th>4</th>\n",
       "      <td>Ant hill</td>\n",
       "      <td>2002</td>\n",
       "      <td>0.003034</td>\n",
       "    </tr>\n",
       "  </tbody>\n",
       "</table>\n",
       "</div>"
      ],
      "text/plain": [
       "    species  year      area\n",
       "0  Ant hill  1998  0.011008\n",
       "1  Ant hill  1999  0.014806\n",
       "2  Ant hill  2000  0.006458\n",
       "3  Ant hill  2001  0.013366\n",
       "4  Ant hill  2002  0.003034"
      ]
     },
     "execution_count": 65,
     "metadata": {},
     "output_type": "execute_result"
    }
   ],
   "source": [
    "species_year = all_records.groupby(['species','year'], as_index = False).area.sum()\n",
    "species_year.head()"
   ]
  },
  {
   "cell_type": "code",
   "execution_count": 66,
   "metadata": {
    "collapsed": false
   },
   "outputs": [],
   "source": [
    "species_year_wide = species_year.pivot(index = 'year', columns = 'species', values = 'area')"
   ]
  },
  {
   "cell_type": "code",
   "execution_count": 67,
   "metadata": {
    "collapsed": false
   },
   "outputs": [
    {
     "data": {
      "text/plain": [
       "<matplotlib.text.Text at 0x11a4dbf98>"
      ]
     },
     "execution_count": 67,
     "metadata": {},
     "output_type": "execute_result"
    },
    {
     "data": {
      "image/png": "[encoded data removed]",
      "text/plain": [
       "<matplotlib.figure.Figure at 0x11a4bfe48>"
      ]
     },
     "metadata": {},
     "output_type": "display_data"
    }
   ],
   "source": [
    "%matplotlib inline\n",
    "species_year_plot = species_year_wide.plot(kind ='bar', stacked = True, legend = False, \n",
    "                  title = \"Species area per quadrat per year\")\n",
    "species_year_plot.set_xlabel(\"Year\")\n",
    "species_year_plot.set_ylabel(\"Quadrat\")"
   ]
  },
  {
   "cell_type": "markdown",
   "metadata": {},
   "source": [
    "#### Figure 1\n",
    "#### A plot of the area covered by each species over all quadrats (y) for each year (x)."
   ]
  },
  {
   "cell_type": "markdown",
   "metadata": {},
   "source": [
    "# Part 2"
   ]
  },
  {
   "cell_type": "code",
   "execution_count": 68,
   "metadata": {
    "collapsed": false
   },
   "outputs": [
    {
     "data": {
      "text/html": [
       "<div>\n",
       "<table border=\"1\" class=\"dataframe\">\n",
       "  <thead>\n",
       "    <tr style=\"text-align: right;\">\n",
       "      <th></th>\n",
       "      <th>quad</th>\n",
       "      <th>year</th>\n",
       "      <th>species</th>\n",
       "      <th>area</th>\n",
       "      <th>x</th>\n",
       "      <th>y</th>\n",
       "      <th>density</th>\n",
       "      <th>cover</th>\n",
       "      <th>growthform</th>\n",
       "      <th>longevity</th>\n",
       "    </tr>\n",
       "  </thead>\n",
       "  <tbody>\n",
       "    <tr>\n",
       "      <th>0</th>\n",
       "      <td>gzgz_11</td>\n",
       "      <td>1997</td>\n",
       "      <td>Corner plate</td>\n",
       "      <td>0.001863</td>\n",
       "      <td>0.021345</td>\n",
       "      <td>0.977800</td>\n",
       "      <td>NaN</td>\n",
       "      <td>1299.0</td>\n",
       "      <td>Not plant</td>\n",
       "      <td>Not plant</td>\n",
       "    </tr>\n",
       "    <tr>\n",
       "      <th>1</th>\n",
       "      <td>gzgz_11</td>\n",
       "      <td>1997</td>\n",
       "      <td>Bare ground</td>\n",
       "      <td>0.013359</td>\n",
       "      <td>0.086730</td>\n",
       "      <td>0.946482</td>\n",
       "      <td>10.0</td>\n",
       "      <td>1988.0</td>\n",
       "      <td>Not plant</td>\n",
       "      <td>Not plant</td>\n",
       "    </tr>\n",
       "    <tr>\n",
       "      <th>2</th>\n",
       "      <td>gzgz_11</td>\n",
       "      <td>1997</td>\n",
       "      <td>Bouteloua gracilis</td>\n",
       "      <td>0.000169</td>\n",
       "      <td>0.167067</td>\n",
       "      <td>0.996623</td>\n",
       "      <td>NaN</td>\n",
       "      <td>47497.0</td>\n",
       "      <td>grass</td>\n",
       "      <td>P</td>\n",
       "    </tr>\n",
       "    <tr>\n",
       "      <th>3</th>\n",
       "      <td>gzgz_11</td>\n",
       "      <td>1997</td>\n",
       "      <td>Bouteloua gracilis</td>\n",
       "      <td>0.014171</td>\n",
       "      <td>0.343203</td>\n",
       "      <td>0.963770</td>\n",
       "      <td>NaN</td>\n",
       "      <td>47497.0</td>\n",
       "      <td>grass</td>\n",
       "      <td>P</td>\n",
       "    </tr>\n",
       "    <tr>\n",
       "      <th>4</th>\n",
       "      <td>gzgz_11</td>\n",
       "      <td>1997</td>\n",
       "      <td>Bare ground</td>\n",
       "      <td>0.001982</td>\n",
       "      <td>0.377101</td>\n",
       "      <td>0.987494</td>\n",
       "      <td>10.0</td>\n",
       "      <td>1988.0</td>\n",
       "      <td>Not plant</td>\n",
       "      <td>Not plant</td>\n",
       "    </tr>\n",
       "  </tbody>\n",
       "</table>\n",
       "</div>"
      ],
      "text/plain": [
       "      quad  year             species      area         x         y  density  \\\n",
       "0  gzgz_11  1997        Corner plate  0.001863  0.021345  0.977800      NaN   \n",
       "1  gzgz_11  1997         Bare ground  0.013359  0.086730  0.946482     10.0   \n",
       "2  gzgz_11  1997  Bouteloua gracilis  0.000169  0.167067  0.996623      NaN   \n",
       "3  gzgz_11  1997  Bouteloua gracilis  0.014171  0.343203  0.963770      NaN   \n",
       "4  gzgz_11  1997         Bare ground  0.001982  0.377101  0.987494     10.0   \n",
       "\n",
       "     cover growthform  longevity  \n",
       "0   1299.0  Not plant  Not plant  \n",
       "1   1988.0  Not plant  Not plant  \n",
       "2  47497.0      grass          P  \n",
       "3  47497.0      grass          P  \n",
       "4   1988.0  Not plant  Not plant  "
      ]
     },
     "execution_count": 68,
     "metadata": {},
     "output_type": "execute_result"
    }
   ],
   "source": [
    "merged_gf_year = pd.merge(left = all_records, right = plant_list, left_on = 'species',\n",
    "                       right_on = 'species',how = 'left')\n",
    "merged_gf_year.head()"
   ]
  },
  {
   "cell_type": "code",
   "execution_count": 69,
   "metadata": {
    "collapsed": false
   },
   "outputs": [
    {
     "data": {
      "text/html": [
       "<div>\n",
       "<table border=\"1\" class=\"dataframe\">\n",
       "  <thead>\n",
       "    <tr style=\"text-align: right;\">\n",
       "      <th></th>\n",
       "      <th>growthform</th>\n",
       "      <th>year</th>\n",
       "      <th>area</th>\n",
       "    </tr>\n",
       "  </thead>\n",
       "  <tbody>\n",
       "    <tr>\n",
       "      <th>0</th>\n",
       "      <td>Crown</td>\n",
       "      <td>1998</td>\n",
       "      <td>0.883835</td>\n",
       "    </tr>\n",
       "    <tr>\n",
       "      <th>1</th>\n",
       "      <td>Crown</td>\n",
       "      <td>1999</td>\n",
       "      <td>1.001064</td>\n",
       "    </tr>\n",
       "    <tr>\n",
       "      <th>2</th>\n",
       "      <td>Crown</td>\n",
       "      <td>2000</td>\n",
       "      <td>0.287084</td>\n",
       "    </tr>\n",
       "    <tr>\n",
       "      <th>3</th>\n",
       "      <td>Crown</td>\n",
       "      <td>2001</td>\n",
       "      <td>0.503875</td>\n",
       "    </tr>\n",
       "    <tr>\n",
       "      <th>4</th>\n",
       "      <td>Crown</td>\n",
       "      <td>2002</td>\n",
       "      <td>1.647143</td>\n",
       "    </tr>\n",
       "  </tbody>\n",
       "</table>\n",
       "</div>"
      ],
      "text/plain": [
       "  growthform  year      area\n",
       "0      Crown  1998  0.883835\n",
       "1      Crown  1999  1.001064\n",
       "2      Crown  2000  0.287084\n",
       "3      Crown  2001  0.503875\n",
       "4      Crown  2002  1.647143"
      ]
     },
     "execution_count": 69,
     "metadata": {},
     "output_type": "execute_result"
    }
   ],
   "source": [
    "gf_year = merged_gf_year.groupby(['growthform','year'], as_index = False).area.sum()\n",
    "gf_year.head()"
   ]
  },
  {
   "cell_type": "code",
   "execution_count": 93,
   "metadata": {
    "collapsed": false
   },
   "outputs": [
    {
     "data": {
      "text/html": [
       "<div>\n",
       "<table border=\"1\" class=\"dataframe\">\n",
       "  <thead>\n",
       "    <tr style=\"text-align: right;\">\n",
       "      <th>growthform</th>\n",
       "      <th>Crown</th>\n",
       "      <th>Not plant</th>\n",
       "      <th>Unknown</th>\n",
       "      <th>grass</th>\n",
       "      <th>shrub</th>\n",
       "    </tr>\n",
       "    <tr>\n",
       "      <th>year</th>\n",
       "      <th></th>\n",
       "      <th></th>\n",
       "      <th></th>\n",
       "      <th></th>\n",
       "      <th></th>\n",
       "    </tr>\n",
       "  </thead>\n",
       "  <tbody>\n",
       "    <tr>\n",
       "      <th>1997</th>\n",
       "      <td>NaN</td>\n",
       "      <td>15.924538</td>\n",
       "      <td>0.004016</td>\n",
       "      <td>7.979310</td>\n",
       "      <td>0.133389</td>\n",
       "    </tr>\n",
       "    <tr>\n",
       "      <th>1998</th>\n",
       "      <td>0.883835</td>\n",
       "      <td>13.721476</td>\n",
       "      <td>NaN</td>\n",
       "      <td>9.214863</td>\n",
       "      <td>0.233096</td>\n",
       "    </tr>\n",
       "    <tr>\n",
       "      <th>1999</th>\n",
       "      <td>1.001064</td>\n",
       "      <td>12.682916</td>\n",
       "      <td>NaN</td>\n",
       "      <td>10.059053</td>\n",
       "      <td>0.302240</td>\n",
       "    </tr>\n",
       "    <tr>\n",
       "      <th>2000</th>\n",
       "      <td>0.287084</td>\n",
       "      <td>6.790056</td>\n",
       "      <td>0.000349</td>\n",
       "      <td>4.772160</td>\n",
       "      <td>0.167591</td>\n",
       "    </tr>\n",
       "    <tr>\n",
       "      <th>2001</th>\n",
       "      <td>0.503875</td>\n",
       "      <td>12.287331</td>\n",
       "      <td>0.017111</td>\n",
       "      <td>11.035961</td>\n",
       "      <td>0.235150</td>\n",
       "    </tr>\n",
       "  </tbody>\n",
       "</table>\n",
       "</div>"
      ],
      "text/plain": [
       "growthform     Crown  Not plant   Unknown      grass     shrub\n",
       "year                                                          \n",
       "1997             NaN  15.924538  0.004016   7.979310  0.133389\n",
       "1998        0.883835  13.721476       NaN   9.214863  0.233096\n",
       "1999        1.001064  12.682916       NaN  10.059053  0.302240\n",
       "2000        0.287084   6.790056  0.000349   4.772160  0.167591\n",
       "2001        0.503875  12.287331  0.017111  11.035961  0.235150"
      ]
     },
     "execution_count": 93,
     "metadata": {},
     "output_type": "execute_result"
    }
   ],
   "source": [
    "gf_year_wide = gf_year.pivot(index = 'year', columns = 'growthform', values = 'area')\n",
    "gf_year_wide.head()"
   ]
  },
  {
   "cell_type": "code",
   "execution_count": 71,
   "metadata": {
    "collapsed": false
   },
   "outputs": [
    {
     "data": {
      "text/plain": [
       "<matplotlib.text.Text at 0x114a3a2e8>"
      ]
     },
     "execution_count": 71,
     "metadata": {},
     "output_type": "execute_result"
    },
    {
     "data": {
      "image/png": "[encoded data removed]",
      "text/plain": [
       "<matplotlib.figure.Figure at 0x11482aef0>"
      ]
     },
     "metadata": {},
     "output_type": "display_data"
    }
   ],
   "source": [
    "gf_year_plot = gf_year_wide.plot(kind ='bar', stacked = True, \n",
    "                  title = \"growthform area per quadrat per year\")\n",
    "gf_year_plot.set_xlabel(\"Year\")\n",
    "gf_year_plot.set_ylabel(\"Quadrat\")"
   ]
  },
  {
   "cell_type": "markdown",
   "metadata": {},
   "source": [
    "#### Figure 2\n",
    "#### A plot of the area covered by each growth-form over all quadrats (y) for each year (x)."
   ]
  },
  {
   "cell_type": "markdown",
   "metadata": {},
   "source": [
    "# Part 3"
   ]
  },
  {
   "cell_type": "code",
   "execution_count": 72,
   "metadata": {
    "collapsed": false
   },
   "outputs": [],
   "source": [
    "# plant_list = (plant_species)\n",
    "# all_records = (plant_cover)\n",
    "# merged_gf_year = (merged_spp_cover)\n",
    "\n",
    "%matplotlib inline"
   ]
  },
  {
   "cell_type": "code",
   "execution_count": 73,
   "metadata": {
    "collapsed": false
   },
   "outputs": [
    {
     "data": {
      "text/html": [
       "<div>\n",
       "<table border=\"1\" class=\"dataframe\">\n",
       "  <thead>\n",
       "    <tr style=\"text-align: right;\">\n",
       "      <th></th>\n",
       "      <th>year</th>\n",
       "      <th>month</th>\n",
       "      <th>day</th>\n",
       "      <th>meant</th>\n",
       "      <th>flag_meant</th>\n",
       "      <th>maxt</th>\n",
       "      <th>flag_maxt</th>\n",
       "      <th>mint</th>\n",
       "      <th>flag_mint</th>\n",
       "      <th>precip</th>\n",
       "      <th>flag_precip</th>\n",
       "    </tr>\n",
       "  </thead>\n",
       "  <tbody>\n",
       "    <tr>\n",
       "      <th>0</th>\n",
       "      <td>1997</td>\n",
       "      <td>1</td>\n",
       "      <td>1</td>\n",
       "      <td>8.33</td>\n",
       "      <td>g</td>\n",
       "      <td>16.11</td>\n",
       "      <td>g</td>\n",
       "      <td>0.56</td>\n",
       "      <td>g</td>\n",
       "      <td>0.000</td>\n",
       "      <td>g</td>\n",
       "    </tr>\n",
       "    <tr>\n",
       "      <th>1</th>\n",
       "      <td>1997</td>\n",
       "      <td>1</td>\n",
       "      <td>2</td>\n",
       "      <td>8.89</td>\n",
       "      <td>g</td>\n",
       "      <td>14.44</td>\n",
       "      <td>g</td>\n",
       "      <td>3.33</td>\n",
       "      <td>g</td>\n",
       "      <td>0.000</td>\n",
       "      <td>g</td>\n",
       "    </tr>\n",
       "    <tr>\n",
       "      <th>2</th>\n",
       "      <td>1997</td>\n",
       "      <td>1</td>\n",
       "      <td>3</td>\n",
       "      <td>10.56</td>\n",
       "      <td>g</td>\n",
       "      <td>21.67</td>\n",
       "      <td>g</td>\n",
       "      <td>-0.56</td>\n",
       "      <td>g</td>\n",
       "      <td>0.254</td>\n",
       "      <td>g</td>\n",
       "    </tr>\n",
       "    <tr>\n",
       "      <th>3</th>\n",
       "      <td>1997</td>\n",
       "      <td>1</td>\n",
       "      <td>4</td>\n",
       "      <td>3.61</td>\n",
       "      <td>g</td>\n",
       "      <td>8.89</td>\n",
       "      <td>g</td>\n",
       "      <td>-1.67</td>\n",
       "      <td>g</td>\n",
       "      <td>0.000</td>\n",
       "      <td>g</td>\n",
       "    </tr>\n",
       "    <tr>\n",
       "      <th>4</th>\n",
       "      <td>1997</td>\n",
       "      <td>1</td>\n",
       "      <td>5</td>\n",
       "      <td>-4.44</td>\n",
       "      <td>g</td>\n",
       "      <td>3.89</td>\n",
       "      <td>g</td>\n",
       "      <td>-12.78</td>\n",
       "      <td>g</td>\n",
       "      <td>0.000</td>\n",
       "      <td>g</td>\n",
       "    </tr>\n",
       "  </tbody>\n",
       "</table>\n",
       "</div>"
      ],
      "text/plain": [
       "   year  month  day  meant flag_meant   maxt flag_maxt   mint flag_mint  \\\n",
       "0  1997      1    1   8.33          g  16.11         g   0.56         g   \n",
       "1  1997      1    2   8.89          g  14.44         g   3.33         g   \n",
       "2  1997      1    3  10.56          g  21.67         g  -0.56         g   \n",
       "3  1997      1    4   3.61          g   8.89         g  -1.67         g   \n",
       "4  1997      1    5  -4.44          g   3.89         g -12.78         g   \n",
       "\n",
       "   precip flag_precip  \n",
       "0   0.000           g  \n",
       "1   0.000           g  \n",
       "2   0.254           g  \n",
       "3   0.000           g  \n",
       "4   0.000           g  "
      ]
     },
     "execution_count": 73,
     "metadata": {},
     "output_type": "execute_result"
    }
   ],
   "source": [
    "climate = pd.read_csv(\"mapped_plant_quads_co_daily_climate.csv\")\n",
    "climate.head()"
   ]
  },
  {
   "cell_type": "code",
   "execution_count": 74,
   "metadata": {
    "collapsed": false
   },
   "outputs": [
    {
     "data": {
      "text/html": [
       "<div>\n",
       "<table border=\"1\" class=\"dataframe\">\n",
       "  <thead>\n",
       "    <tr style=\"text-align: right;\">\n",
       "      <th></th>\n",
       "      <th>year</th>\n",
       "      <th>precip</th>\n",
       "    </tr>\n",
       "  </thead>\n",
       "  <tbody>\n",
       "    <tr>\n",
       "      <th>0</th>\n",
       "      <td>1997</td>\n",
       "      <td>1.543701</td>\n",
       "    </tr>\n",
       "    <tr>\n",
       "      <th>1</th>\n",
       "      <td>1998</td>\n",
       "      <td>0.964534</td>\n",
       "    </tr>\n",
       "    <tr>\n",
       "      <th>2</th>\n",
       "      <td>1999</td>\n",
       "      <td>1.649775</td>\n",
       "    </tr>\n",
       "    <tr>\n",
       "      <th>3</th>\n",
       "      <td>2000</td>\n",
       "      <td>0.694447</td>\n",
       "    </tr>\n",
       "    <tr>\n",
       "      <th>4</th>\n",
       "      <td>2001</td>\n",
       "      <td>0.882880</td>\n",
       "    </tr>\n",
       "  </tbody>\n",
       "</table>\n",
       "</div>"
      ],
      "text/plain": [
       "   year    precip\n",
       "0  1997  1.543701\n",
       "1  1998  0.964534\n",
       "2  1999  1.649775\n",
       "3  2000  0.694447\n",
       "4  2001  0.882880"
      ]
     },
     "execution_count": 74,
     "metadata": {},
     "output_type": "execute_result"
    }
   ],
   "source": [
    "#need to calculate mean precipitation per year\n",
    "mean_p = climate.groupby('year',as_index=False).precip.mean()\n",
    "mean_p.head()"
   ]
  },
  {
   "cell_type": "code",
   "execution_count": 75,
   "metadata": {
    "collapsed": false
   },
   "outputs": [
    {
     "data": {
      "text/html": [
       "<div>\n",
       "<table border=\"1\" class=\"dataframe\">\n",
       "  <thead>\n",
       "    <tr style=\"text-align: right;\">\n",
       "      <th></th>\n",
       "      <th>quad</th>\n",
       "      <th>year</th>\n",
       "      <th>species</th>\n",
       "      <th>area</th>\n",
       "      <th>x</th>\n",
       "      <th>y</th>\n",
       "      <th>density</th>\n",
       "      <th>cover</th>\n",
       "      <th>growthform</th>\n",
       "      <th>longevity</th>\n",
       "    </tr>\n",
       "  </thead>\n",
       "  <tbody>\n",
       "    <tr>\n",
       "      <th>0</th>\n",
       "      <td>gzgz_11</td>\n",
       "      <td>1997</td>\n",
       "      <td>Corner plate</td>\n",
       "      <td>0.001863</td>\n",
       "      <td>0.021345</td>\n",
       "      <td>0.977800</td>\n",
       "      <td>NaN</td>\n",
       "      <td>1299.0</td>\n",
       "      <td>Not plant</td>\n",
       "      <td>Not plant</td>\n",
       "    </tr>\n",
       "    <tr>\n",
       "      <th>1</th>\n",
       "      <td>gzgz_11</td>\n",
       "      <td>1997</td>\n",
       "      <td>Bare ground</td>\n",
       "      <td>0.013359</td>\n",
       "      <td>0.086730</td>\n",
       "      <td>0.946482</td>\n",
       "      <td>10.0</td>\n",
       "      <td>1988.0</td>\n",
       "      <td>Not plant</td>\n",
       "      <td>Not plant</td>\n",
       "    </tr>\n",
       "    <tr>\n",
       "      <th>2</th>\n",
       "      <td>gzgz_11</td>\n",
       "      <td>1997</td>\n",
       "      <td>Bouteloua gracilis</td>\n",
       "      <td>0.000169</td>\n",
       "      <td>0.167067</td>\n",
       "      <td>0.996623</td>\n",
       "      <td>NaN</td>\n",
       "      <td>47497.0</td>\n",
       "      <td>grass</td>\n",
       "      <td>P</td>\n",
       "    </tr>\n",
       "    <tr>\n",
       "      <th>3</th>\n",
       "      <td>gzgz_11</td>\n",
       "      <td>1997</td>\n",
       "      <td>Bouteloua gracilis</td>\n",
       "      <td>0.014171</td>\n",
       "      <td>0.343203</td>\n",
       "      <td>0.963770</td>\n",
       "      <td>NaN</td>\n",
       "      <td>47497.0</td>\n",
       "      <td>grass</td>\n",
       "      <td>P</td>\n",
       "    </tr>\n",
       "    <tr>\n",
       "      <th>4</th>\n",
       "      <td>gzgz_11</td>\n",
       "      <td>1997</td>\n",
       "      <td>Bare ground</td>\n",
       "      <td>0.001982</td>\n",
       "      <td>0.377101</td>\n",
       "      <td>0.987494</td>\n",
       "      <td>10.0</td>\n",
       "      <td>1988.0</td>\n",
       "      <td>Not plant</td>\n",
       "      <td>Not plant</td>\n",
       "    </tr>\n",
       "  </tbody>\n",
       "</table>\n",
       "</div>"
      ],
      "text/plain": [
       "      quad  year             species      area         x         y  density  \\\n",
       "0  gzgz_11  1997        Corner plate  0.001863  0.021345  0.977800      NaN   \n",
       "1  gzgz_11  1997         Bare ground  0.013359  0.086730  0.946482     10.0   \n",
       "2  gzgz_11  1997  Bouteloua gracilis  0.000169  0.167067  0.996623      NaN   \n",
       "3  gzgz_11  1997  Bouteloua gracilis  0.014171  0.343203  0.963770      NaN   \n",
       "4  gzgz_11  1997         Bare ground  0.001982  0.377101  0.987494     10.0   \n",
       "\n",
       "     cover growthform  longevity  \n",
       "0   1299.0  Not plant  Not plant  \n",
       "1   1988.0  Not plant  Not plant  \n",
       "2  47497.0      grass          P  \n",
       "3  47497.0      grass          P  \n",
       "4   1988.0  Not plant  Not plant  "
      ]
     },
     "execution_count": 75,
     "metadata": {},
     "output_type": "execute_result"
    }
   ],
   "source": [
    "merged_gf_year.head()"
   ]
  },
  {
   "cell_type": "code",
   "execution_count": 76,
   "metadata": {
    "collapsed": false
   },
   "outputs": [
    {
     "data": {
      "text/html": [
       "<div>\n",
       "<table border=\"1\" class=\"dataframe\">\n",
       "  <thead>\n",
       "    <tr style=\"text-align: right;\">\n",
       "      <th></th>\n",
       "      <th>growthform</th>\n",
       "      <th>year</th>\n",
       "      <th>area</th>\n",
       "    </tr>\n",
       "  </thead>\n",
       "  <tbody>\n",
       "    <tr>\n",
       "      <th>0</th>\n",
       "      <td>Crown</td>\n",
       "      <td>1998</td>\n",
       "      <td>0.883835</td>\n",
       "    </tr>\n",
       "    <tr>\n",
       "      <th>1</th>\n",
       "      <td>Crown</td>\n",
       "      <td>1999</td>\n",
       "      <td>1.001064</td>\n",
       "    </tr>\n",
       "    <tr>\n",
       "      <th>2</th>\n",
       "      <td>Crown</td>\n",
       "      <td>2000</td>\n",
       "      <td>0.287084</td>\n",
       "    </tr>\n",
       "    <tr>\n",
       "      <th>3</th>\n",
       "      <td>Crown</td>\n",
       "      <td>2001</td>\n",
       "      <td>0.503875</td>\n",
       "    </tr>\n",
       "    <tr>\n",
       "      <th>4</th>\n",
       "      <td>Crown</td>\n",
       "      <td>2002</td>\n",
       "      <td>1.647143</td>\n",
       "    </tr>\n",
       "  </tbody>\n",
       "</table>\n",
       "</div>"
      ],
      "text/plain": [
       "  growthform  year      area\n",
       "0      Crown  1998  0.883835\n",
       "1      Crown  1999  1.001064\n",
       "2      Crown  2000  0.287084\n",
       "3      Crown  2001  0.503875\n",
       "4      Crown  2002  1.647143"
      ]
     },
     "execution_count": 76,
     "metadata": {},
     "output_type": "execute_result"
    }
   ],
   "source": [
    "gf_yr_area = merged_gf_year.groupby(['growthform','year'], as_index = False).area.sum()\n",
    "gf_yr_area.head()"
   ]
  },
  {
   "cell_type": "code",
   "execution_count": 86,
   "metadata": {
    "collapsed": false,
    "scrolled": true
   },
   "outputs": [
    {
     "data": {
      "text/html": [
       "<div>\n",
       "<table border=\"1\" class=\"dataframe\">\n",
       "  <thead>\n",
       "    <tr style=\"text-align: right;\">\n",
       "      <th></th>\n",
       "      <th>growthform</th>\n",
       "      <th>year</th>\n",
       "      <th>area</th>\n",
       "      <th>precip</th>\n",
       "    </tr>\n",
       "  </thead>\n",
       "  <tbody>\n",
       "    <tr>\n",
       "      <th>0</th>\n",
       "      <td>Crown</td>\n",
       "      <td>1998</td>\n",
       "      <td>0.883835</td>\n",
       "      <td>0.964534</td>\n",
       "    </tr>\n",
       "    <tr>\n",
       "      <th>1</th>\n",
       "      <td>Crown</td>\n",
       "      <td>1999</td>\n",
       "      <td>1.001064</td>\n",
       "      <td>1.649775</td>\n",
       "    </tr>\n",
       "    <tr>\n",
       "      <th>2</th>\n",
       "      <td>Crown</td>\n",
       "      <td>2000</td>\n",
       "      <td>0.287084</td>\n",
       "      <td>0.694447</td>\n",
       "    </tr>\n",
       "    <tr>\n",
       "      <th>3</th>\n",
       "      <td>Crown</td>\n",
       "      <td>2001</td>\n",
       "      <td>0.503875</td>\n",
       "      <td>0.882880</td>\n",
       "    </tr>\n",
       "    <tr>\n",
       "      <th>4</th>\n",
       "      <td>Crown</td>\n",
       "      <td>2002</td>\n",
       "      <td>1.647143</td>\n",
       "      <td>0.559414</td>\n",
       "    </tr>\n",
       "  </tbody>\n",
       "</table>\n",
       "</div>"
      ],
      "text/plain": [
       "  growthform  year      area    precip\n",
       "0      Crown  1998  0.883835  0.964534\n",
       "1      Crown  1999  1.001064  1.649775\n",
       "2      Crown  2000  0.287084  0.694447\n",
       "3      Crown  2001  0.503875  0.882880\n",
       "4      Crown  2002  1.647143  0.559414"
      ]
     },
     "execution_count": 86,
     "metadata": {},
     "output_type": "execute_result"
    }
   ],
   "source": [
    "merged_gfyear_precip = pd.merge(left = gf_yr_area, right = mean_p, left_on = 'year',\n",
    "                       right_on = 'year',how = 'left')\n",
    "merged_gfyear_precip.head()"
   ]
  },
  {
   "cell_type": "code",
   "execution_count": 95,
   "metadata": {
    "collapsed": false
   },
   "outputs": [
    {
     "data": {
      "text/html": [
       "<div>\n",
       "<table border=\"1\" class=\"dataframe\">\n",
       "  <thead>\n",
       "    <tr style=\"text-align: right;\">\n",
       "      <th>growthform</th>\n",
       "      <th>Crown</th>\n",
       "      <th>Not plant</th>\n",
       "      <th>Unknown</th>\n",
       "      <th>grass</th>\n",
       "      <th>shrub</th>\n",
       "    </tr>\n",
       "    <tr>\n",
       "      <th>precip</th>\n",
       "      <th></th>\n",
       "      <th></th>\n",
       "      <th></th>\n",
       "      <th></th>\n",
       "      <th></th>\n",
       "    </tr>\n",
       "  </thead>\n",
       "  <tbody>\n",
       "    <tr>\n",
       "      <th>0.559414</th>\n",
       "      <td>1.647143</td>\n",
       "      <td>15.720092</td>\n",
       "      <td>NaN</td>\n",
       "      <td>6.708050</td>\n",
       "      <td>0.086694</td>\n",
       "    </tr>\n",
       "    <tr>\n",
       "      <th>0.694447</th>\n",
       "      <td>0.287084</td>\n",
       "      <td>6.790056</td>\n",
       "      <td>0.000349</td>\n",
       "      <td>4.772160</td>\n",
       "      <td>0.167591</td>\n",
       "    </tr>\n",
       "    <tr>\n",
       "      <th>0.843191</th>\n",
       "      <td>12.285852</td>\n",
       "      <td>7.509052</td>\n",
       "      <td>NaN</td>\n",
       "      <td>4.258776</td>\n",
       "      <td>0.010477</td>\n",
       "    </tr>\n",
       "    <tr>\n",
       "      <th>0.882880</th>\n",
       "      <td>0.503875</td>\n",
       "      <td>12.287331</td>\n",
       "      <td>0.017111</td>\n",
       "      <td>11.035961</td>\n",
       "      <td>0.235150</td>\n",
       "    </tr>\n",
       "    <tr>\n",
       "      <th>0.964534</th>\n",
       "      <td>0.883835</td>\n",
       "      <td>13.721476</td>\n",
       "      <td>NaN</td>\n",
       "      <td>9.214863</td>\n",
       "      <td>0.233096</td>\n",
       "    </tr>\n",
       "  </tbody>\n",
       "</table>\n",
       "</div>"
      ],
      "text/plain": [
       "growthform      Crown  Not plant   Unknown      grass     shrub\n",
       "precip                                                         \n",
       "0.559414     1.647143  15.720092       NaN   6.708050  0.086694\n",
       "0.694447     0.287084   6.790056  0.000349   4.772160  0.167591\n",
       "0.843191    12.285852   7.509052       NaN   4.258776  0.010477\n",
       "0.882880     0.503875  12.287331  0.017111  11.035961  0.235150\n",
       "0.964534     0.883835  13.721476       NaN   9.214863  0.233096"
      ]
     },
     "execution_count": 95,
     "metadata": {},
     "output_type": "execute_result"
    }
   ],
   "source": [
    "#pivot table\n",
    "growth_cover_precip = merged_gfyear_precip.pivot(index = 'precip', columns = 'growthform', values = 'area')\n",
    "growth_cover_precip.head()"
   ]
  },
  {
   "cell_type": "code",
   "execution_count": 96,
   "metadata": {
    "collapsed": false
   },
   "outputs": [
    {
     "data": {
      "text/plain": [
       "<matplotlib.text.Text at 0x113377240>"
      ]
     },
     "execution_count": 96,
     "metadata": {},
     "output_type": "execute_result"
    },
    {
     "data": {
      "image/png": "[encoded data removed]",
      "text/plain": [
       "<matplotlib.figure.Figure at 0x1154e0a20>"
      ]
     },
     "metadata": {},
     "output_type": "display_data"
    }
   ],
   "source": [
    "#creating the plot\n",
    "growthform_precip_plot = growth_cover_precip.plot(kind ='bar', stacked = True, legend = False, \n",
    "                  title = \"Area Covered by Each Growthform as a Function of Precipitation\")\n",
    "growthform_precip_plot.set_xlabel(\"Precip\")\n",
    "growthform_precip_plot.set_ylabel(\"Area\")"
   ]
  },
  {
   "cell_type": "markdown",
   "metadata": {
    "collapsed": false
   },
   "source": [
    "#### Figure 3\n",
    "#### A plot of the area covered by each growth-form over all quadrats (y) as a function of the mean precipitation for the year (x)."
   ]
  },
  {
   "cell_type": "markdown",
   "metadata": {},
   "source": [
    "# Part 4"
   ]
  },
  {
   "cell_type": "markdown",
   "metadata": {
    "collapsed": true
   },
   "source": [
    "plot of density of all growthform for all year"
   ]
  },
  {
   "cell_type": "code",
   "execution_count": 39,
   "metadata": {
    "collapsed": false
   },
   "outputs": [
    {
     "data": {
      "text/html": [
       "<div>\n",
       "<table border=\"1\" class=\"dataframe\">\n",
       "  <thead>\n",
       "    <tr style=\"text-align: right;\">\n",
       "      <th></th>\n",
       "      <th>growthform</th>\n",
       "      <th>year</th>\n",
       "      <th>density</th>\n",
       "    </tr>\n",
       "  </thead>\n",
       "  <tbody>\n",
       "    <tr>\n",
       "      <th>0</th>\n",
       "      <td>Crown</td>\n",
       "      <td>1998</td>\n",
       "      <td>9282.0</td>\n",
       "    </tr>\n",
       "    <tr>\n",
       "      <th>1</th>\n",
       "      <td>Crown</td>\n",
       "      <td>1999</td>\n",
       "      <td>8840.0</td>\n",
       "    </tr>\n",
       "    <tr>\n",
       "      <th>2</th>\n",
       "      <td>Crown</td>\n",
       "      <td>2000</td>\n",
       "      <td>6052.0</td>\n",
       "    </tr>\n",
       "    <tr>\n",
       "      <th>3</th>\n",
       "      <td>Crown</td>\n",
       "      <td>2001</td>\n",
       "      <td>8432.0</td>\n",
       "    </tr>\n",
       "    <tr>\n",
       "      <th>4</th>\n",
       "      <td>Crown</td>\n",
       "      <td>2002</td>\n",
       "      <td>15946.0</td>\n",
       "    </tr>\n",
       "  </tbody>\n",
       "</table>\n",
       "</div>"
      ],
      "text/plain": [
       "  growthform  year  density\n",
       "0      Crown  1998   9282.0\n",
       "1      Crown  1999   8840.0\n",
       "2      Crown  2000   6052.0\n",
       "3      Crown  2001   8432.0\n",
       "4      Crown  2002  15946.0"
      ]
     },
     "execution_count": 39,
     "metadata": {},
     "output_type": "execute_result"
    }
   ],
   "source": [
    "density_growthform_year = merged_gf_year.groupby(['growthform','year'], as_index = False).density.sum()\n",
    "density_growthform_year.head()"
   ]
  },
  {
   "cell_type": "code",
   "execution_count": 40,
   "metadata": {
    "collapsed": true
   },
   "outputs": [],
   "source": [
    "density_growthform_year_wide = density_growthform_year.pivot(index = 'year', columns = 'growthform', values = 'density')"
   ]
  },
  {
   "cell_type": "code",
   "execution_count": 41,
   "metadata": {
    "collapsed": false
   },
   "outputs": [
    {
     "data": {
      "text/plain": [
       "<matplotlib.text.Text at 0x2562fafba20>"
      ]
     },
     "execution_count": 41,
     "metadata": {},
     "output_type": "execute_result"
    },
    {
     "data": {
      "image/png": "[encoded data removed]",
      "text/plain": [
       "<matplotlib.figure.Figure at 0x25630052320>"
      ]
     },
     "metadata": {},
     "output_type": "display_data"
    }
   ],
   "source": [
    "density_growthform_plot = density_growthform_year_wide.plot(kind ='bar', stacked = True, \n",
    "                  title = \"density of all growthform for all years\")\n",
    "density_species_plot.set_xlabel(\"Year\")\n",
    "density_species_plot.set_ylabel(\"growthform\")"
   ]
  },
  {
   "cell_type": "markdown",
   "metadata": {},
   "source": [
    "#### Figure 4\n",
    "#### At least one additional plot investigating the relationship between plant composition (e.g. species or growth form) and another variable.\n",
    "this plot shows that density of Crown increased with year, and desity of shrub decreased"
   ]
  }
 ],
 "metadata": {
  "anaconda-cloud": {},
  "kernelspec": {
   "display_name": "Python [conda root]",
   "language": "python",
   "name": "conda-root-py"
  },
  "language_info": {
   "codemirror_mode": {
    "name": "ipython",
    "version": 3
   },
   "file_extension": ".py",
   "mimetype": "text/x-python",
   "name": "python",
   "nbconvert_exporter": "python",
   "pygments_lexer": "ipython3",
   "version": "3.5.2"
  }
 },
 "nbformat": 4,
 "nbformat_minor": 1
}
